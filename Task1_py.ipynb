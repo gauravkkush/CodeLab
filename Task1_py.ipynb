{
  "nbformat": 4,
  "nbformat_minor": 0,
  "metadata": {
    "colab": {
      "name": "Task1.py",
      "provenance": [],
      "collapsed_sections": [],
      "authorship_tag": "ABX9TyMeom6ttu4kub3YP7QT2IFK",
      "include_colab_link": true
    },
    "kernelspec": {
      "name": "python3",
      "display_name": "Python 3"
    },
    "language_info": {
      "name": "python"
    }
  },
  "cells": [
    {
      "cell_type": "markdown",
      "metadata": {
        "id": "view-in-github",
        "colab_type": "text"
      },
      "source": [
        "<a href=\"https://colab.research.google.com/github/gauravkkush/CodeLab/blob/main/Task1_py.ipynb\" target=\"_parent\"><img src=\"https://colab.research.google.com/assets/colab-badge.svg\" alt=\"Open In Colab\"/></a>"
      ]
    },
    {
      "cell_type": "code",
      "metadata": {
        "id": "S4b2TzvFmCmD"
      },
      "source": [
        "#simple Calculater\n",
        "n1=int(input(\"Enter 1st Number: \"))\n",
        "n2=int(input(\"Enter 2nd Number: \"))\n",
        "op=input(\"Enter Operator(+,-,/,*,%,//,**): \")\n",
        "if(op==\"+\"):\n",
        "  print(n1+n2)\n",
        "elif(op==\"-\"):\n",
        "  print(n1-n2)\n",
        "elif(op==\"*\"):\n",
        "  print(n1*n2)\n",
        "elif(op==\"/\"):\n",
        "  print(n1/n2)\n",
        "elif(op==\"//\"):\n",
        "  print(n1//n2)\n",
        "elif(op==\"**\"):\n",
        "  print(n1**n2)\n",
        "else:\n",
        "    print(\"Warning : Invalid Operator!\")"
      ],
      "execution_count": null,
      "outputs": []
    }
  ]
}