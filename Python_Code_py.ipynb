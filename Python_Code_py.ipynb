{
  "nbformat": 4,
  "nbformat_minor": 0,
  "metadata": {
    "colab": {
      "name": "Python Code.py",
      "provenance": [],
      "collapsed_sections": [],
      "authorship_tag": "ABX9TyPXsDstbhiMby2k9e1ta6IR",
      "include_colab_link": true
    },
    "kernelspec": {
      "name": "python3",
      "display_name": "Python 3"
    },
    "language_info": {
      "name": "python"
    }
  },
  "cells": [
    {
      "cell_type": "markdown",
      "metadata": {
        "id": "view-in-github",
        "colab_type": "text"
      },
      "source": [
        "<a href=\"https://colab.research.google.com/github/gauravkkush/CodeLab/blob/main/Python_Code_py.ipynb\" target=\"_parent\"><img src=\"https://colab.research.google.com/assets/colab-badge.svg\" alt=\"Open In Colab\"/></a>"
      ]
    },
    {
      "cell_type": "code",
      "metadata": {
        "id": "S4b2TzvFmCmD"
      },
      "source": [
        "#simple Calculater\n",
        "\n",
        "#1 taking Inputs from user\n",
        "n1=int(input(\"Enter 1st Number: \"))\n",
        "n2=int(input(\"Enter 2nd Number: \"))\n",
        "op=input(\"Enter Operator(+,-,/,*,%,//,**): \")\n",
        "\n",
        "#2 main logic\n",
        "if(op==\"+\"):\n",
        "  print(n1+n2)\n",
        "elif(op==\"-\"):\n",
        "  print(n1-n2)\n",
        "elif(op==\"*\"):\n",
        "  print(n1*n2)\n",
        "elif(op==\"/\"):\n",
        "  print(n1/n2)\n",
        "elif(op==\"//\"):\n",
        "  print(n1//n2)\n",
        "elif(op==\"**\"):\n",
        "  print(n1**n2)\n",
        "else:\n",
        "    print(\"Warning : Invalid Operator!\")"
      ],
      "execution_count": null,
      "outputs": []
    },
    {
      "cell_type": "code",
      "metadata": {
        "colab": {
          "base_uri": "https://localhost:8080/"
        },
        "id": "r1wxTK2AnJNA",
        "outputId": "ce329d9d-f733-4c73-807d-a63f5016a0bd"
      },
      "source": [
        "#bitwise opearators\n",
        "n1=int(input(\"enter 1st num: \"))\n",
        "n2=int(input(\"enter 1st num: \"))\n",
        "op=input(\"Enter Operator(&, |, ~, ^, >>, <<): \")\n",
        "   \n",
        "if(op==\"&\"):\n",
        "   print(n1 & n2)\n",
        "elif(op==\"|\"):\n",
        "  print(n1 | n2)\n",
        "elif(op==\"~\"):\n",
        "  print(~n1)\n",
        "  print(~n2)\n",
        "elif(op==\"^\"):\n",
        "  print(n1 ^ n2)\n",
        "elif(op==\">>\"):\n",
        "  print(n1 >>2)\n",
        "  print(n2 >> 2)\n",
        "elif(op==\"<<\"):\n",
        "  print(n1 << 2)\n",
        "  print(n2 << 2)\n",
        "else:\n",
        "  print(\"Warning: Invalid Operation!!\")\n"
      ],
      "execution_count": 7,
      "outputs": [
        {
          "output_type": "stream",
          "text": [
            "enter 1st num: 8\n",
            "enter 1st num: 2\n",
            "Enter Operator(&, |, ~, ^, >>, <<): <<\n",
            "32\n",
            "8\n"
          ],
          "name": "stdout"
        }
      ]
    }
  ]
}